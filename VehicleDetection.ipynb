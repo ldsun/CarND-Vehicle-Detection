{
 "cells": [
  {
   "cell_type": "code",
   "execution_count": 1,
   "metadata": {
    "collapsed": true
   },
   "outputs": [],
   "source": [
    "import matplotlib.image as mpimg\n",
    "import matplotlib.pyplot as plt\n",
    "import numpy as np\n",
    "import cv2\n",
    "import glob\n",
    "import time\n",
    "from sklearn.svm import LinearSVC\n",
    "from sklearn.preprocessing import StandardScaler\n",
    "from skimage.feature import hog\n",
    "from sklearn.model_selection import train_test_split\n",
    "from skimage.feature import hog\n",
    "%matplotlib inline"
   ]
  },
  {
   "cell_type": "code",
   "execution_count": 2,
   "metadata": {
    "collapsed": true
   },
   "outputs": [],
   "source": [
    "## Functions to extract various features.\n",
    "\n",
    "# Color histogram\n",
    "# Define a function to compute color histogram features  \n",
    "def color_hist(image, nbins=32, bins_range=(0, 256), vis=False):\n",
    "    '''Compute the histogram of the RGB channels separately\n",
    "       Concatenate the histograms into a single feature vector\n",
    "       Return the feature vector\n",
    "    '''\n",
    "    rhist = np.histogram(image[:,:,0], bins=32, range=(0, 256))\n",
    "    ghist = np.histogram(image[:,:,1], bins=32, range=(0, 256))\n",
    "    bhist = np.histogram(image[:,:,2], bins=32, range=(0, 256))\n",
    "    # Generating bin centers\n",
    "    bin_edges = rhist[1]\n",
    "    bin_centers = (bin_edges[1:]  + bin_edges[0:len(bin_edges)-1])/2\n",
    "    # Concatenate the histograms into a single feature vector\n",
    "    hist_features = np.concatenate((rhist[0], ghist[0], bhist[0]))\n",
    "    # Return the individual histograms, bin_centers and feature vector\n",
    "    \n",
    "    #Visualization\n",
    "    if vis == True:\n",
    "        fig = plt.figure(figsize=(12,3))\n",
    "        plt.subplot(131)\n",
    "        plt.bar(bin_centers, rhist[0])\n",
    "        plt.xlim(0, 256)\n",
    "        plt.title('R Histogram')\n",
    "        plt.subplot(132)\n",
    "        plt.bar(bin_centers, ghist[0])\n",
    "        plt.xlim(0, 256)\n",
    "        plt.title('G Histogram')\n",
    "        plt.subplot(133)\n",
    "        plt.bar(bin_centers, bhist[0])\n",
    "        plt.xlim(0, 256)\n",
    "        plt.title('B Histogram')\n",
    "    return hist_features\n",
    "\n",
    "# Define a function that takes an image, a color space, \n",
    "# and a new image size\n",
    "# and returns a feature vector\n",
    "def bin_spatial(img, color_space='RGB', size=(16, 16)):\n",
    "    return cv2.resize(img, size).ravel()\n",
    "\n",
    "# Define a function to return HOG features and visualization\n",
    "def get_hog_features(img, orient, pix_per_cell, cell_per_block, vis=False, feature_vec=True):\n",
    "    if vis == True:\n",
    "        features, hog_image = hog(img, orientations=orient, pixels_per_cell=(pix_per_cell, pix_per_cell),\n",
    "                                  cells_per_block=(cell_per_block, cell_per_block), transform_sqrt=True, \n",
    "                                  visualise=vis, feature_vector=feature_vec)\n",
    "        return features, hog_image\n",
    "    else:      \n",
    "        features = hog(img, orientations=orient, pixels_per_cell=(pix_per_cell, pix_per_cell),\n",
    "                       cells_per_block=(cell_per_block, cell_per_block), transform_sqrt=True, \n",
    "                       visualise=vis, feature_vector=feature_vec)\n",
    "        return features"
   ]
  },
  {
   "cell_type": "code",
   "execution_count": 3,
   "metadata": {},
   "outputs": [],
   "source": [
    "## Test feature fuctions\n",
    "\n",
    "def test_feature_functions(img):\n",
    "    image = mpimg.imread(img)\n",
    "    color_hist(image, vis=True)\n",
    "    \n",
    "#test_feature_functions('./test_images/test1.jpg')"
   ]
  },
  {
   "cell_type": "code",
   "execution_count": 7,
   "metadata": {},
   "outputs": [
    {
     "name": "stdout",
     "output_type": "stream",
     "text": [
      "There are  8792  cars and 8968  non-cars\n",
      "of size:  (64, 64, 3)  and data type: float32\n"
     ]
    },
    {
     "name": "stderr",
     "output_type": "stream",
     "text": [
      "/home/lindong/miniconda3/envs/carnd-term1/lib/python3.5/site-packages/skimage/feature/_hog.py:119: skimage_deprecation: Default value of `block_norm`==`L1` is deprecated and will be changed to `L2-Hys` in v0.15\n",
      "  'be changed to `L2-Hys` in v0.15', skimage_deprecation)\n"
     ]
    },
    {
     "data": {
      "image/png": "[encoded data removed]",
      "text/plain": [
       "<matplotlib.figure.Figure at 0x7f0331b4e588>"
      ]
     },
     "metadata": {},
     "output_type": "display_data"
    }
   ],
   "source": [
    "## Load training data from udaciy dataset\n",
    "images = glob.glob('training_data/*/*/*')\n",
    "cars = []\n",
    "notcars = []\n",
    "for image in images:\n",
    "    if 'non' in image:\n",
    "        notcars.append(image)\n",
    "    else:\n",
    "        cars.append(image)\n",
    "        \n",
    "#print(len(cars))\n",
    "#print(len(notcars))\n",
    "        \n",
    "def get_data_dict(car_list, notcar_list):\n",
    "    data_dict = {}\n",
    "    # Define a key in data_dict \"n_cars\" and store the number of car images\n",
    "    data_dict[\"n_cars\"] = len(car_list)\n",
    "    # Define a key \"n_notcars\" and store the number of notcar images\n",
    "    data_dict[\"n_notcars\"] = len(notcar_list)\n",
    "    # Read in a test image, either car or notcar\n",
    "    # Define a key \"image_shape\" and store the test image shape 3-tuple\n",
    "    img = mpimg.imread(car_list[0])\n",
    "    data_dict[\"image_shape\"] = img.shape\n",
    "    # Define a key \"data_type\" and store the data type of the test image.\n",
    "    data_dict[\"data_type\"] = img.dtype\n",
    "    # Return data_dict\n",
    "    return data_dict\n",
    "    \n",
    "data_dict = get_data_dict(cars, notcars)\n",
    "\n",
    "print('There are ', data_dict[\"n_cars\"], ' cars and', \n",
    "      data_dict[\"n_notcars\"], ' non-cars')\n",
    "print('of size: ',data_dict[\"image_shape\"], ' and data type:', \n",
    "      data_dict[\"data_type\"])\n",
    "\n",
    "def random_show_dataset():  \n",
    "    car_ind = np.random.randint(0, len(cars))\n",
    "    notcar_ind = np.random.randint(0, len(notcars))\n",
    "\n",
    "    # Read in car / not-car images\n",
    "    car_image = mpimg.imread(cars[car_ind])\n",
    "    notcar_image = mpimg.imread(notcars[notcar_ind])\n",
    "\n",
    "    # Plot the examples\n",
    "    fig = plt.figure()\n",
    "    plt.subplot(121)\n",
    "    plt.imshow(car_image)\n",
    "    plt.title('Example Car Image')\n",
    "    plt.subplot(122)\n",
    "    plt.imshow(notcar_image)\n",
    "    plt.title('Example Not-car Image')\n",
    "\n",
    "#random_show_dataset()\n",
    "\n",
    "def test_hog_features():\n",
    "    car_ind = np.random.randint(0, len(cars))\n",
    "    car_image = mpimg.imread(cars[car_ind])\n",
    "    gray = cv2.cvtColor(car_image, cv2.COLOR_RGB2GRAY)\n",
    "    # Define HOG parameters\n",
    "    orient = 9\n",
    "    pix_per_cell = 8\n",
    "    cell_per_block = 2\n",
    "    # Call our function with vis=True to see an image output\n",
    "    features, hog_image = get_hog_features(gray, orient, \n",
    "                            pix_per_cell, cell_per_block, \n",
    "                            vis=True, feature_vec=True)\n",
    "\n",
    "\n",
    "    # Plot the examples\n",
    "    fig = plt.figure()\n",
    "    plt.subplot(121)\n",
    "    plt.imshow(car_image, cmap='gray')\n",
    "    plt.title('Example Car Image')\n",
    "    plt.subplot(122)\n",
    "    plt.imshow(hog_image, cmap='gray')\n",
    "    plt.title('HOG Visualization')\n",
    "\n",
    "test_hog_features()"
   ]
  },
  {
   "cell_type": "code",
   "execution_count": null,
   "metadata": {
    "collapsed": true
   },
   "outputs": [],
   "source": []
  }
 ],
 "metadata": {
  "kernelspec": {
   "display_name": "Python 3",
   "language": "python",
   "name": "python3"
  },
  "language_info": {
   "codemirror_mode": {
    "name": "ipython",
    "version": 3
   },
   "file_extension": ".py",
   "mimetype": "text/x-python",
   "name": "python",
   "nbconvert_exporter": "python",
   "pygments_lexer": "ipython3",
   "version": "3.5.2"
  },
  "widgets": {
   "state": {},
   "version": "1.1.2"
  }
 },
 "nbformat": 4,
 "nbformat_minor": 2
}
